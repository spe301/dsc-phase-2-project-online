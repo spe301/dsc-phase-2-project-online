{
 "cells": [
  {
   "cell_type": "code",
   "execution_count": 1,
   "metadata": {},
   "outputs": [],
   "source": [
    "import pandas as pd\n",
    "import numpy as np\n",
    "import statsmodels.api as sm\n",
    "from statsmodels.formula.api import ols\n",
    "from statsmodels.stats.outliers_influence import variance_inflation_factor\n",
    "from statsmodels.tools.tools import add_constant\n",
    "import scipy.stats as stats\n",
    "from matplotlib import pyplot as plt\n",
    "from sklearn.model_selection import train_test_split\n",
    "from sklearn.linear_model import LinearRegression\n",
    "df = pd.read_csv(r'C:\\Users\\aacjp\\KC_Final.csv')"
   ]
  },
  {
   "cell_type": "code",
   "execution_count": 2,
   "metadata": {},
   "outputs": [
    {
     "data": {
      "text/html": [
       "<div>\n",
       "<style scoped>\n",
       "    .dataframe tbody tr th:only-of-type {\n",
       "        vertical-align: middle;\n",
       "    }\n",
       "\n",
       "    .dataframe tbody tr th {\n",
       "        vertical-align: top;\n",
       "    }\n",
       "\n",
       "    .dataframe thead th {\n",
       "        text-align: right;\n",
       "    }\n",
       "</style>\n",
       "<table border=\"1\" class=\"dataframe\">\n",
       "  <thead>\n",
       "    <tr style=\"text-align: right;\">\n",
       "      <th></th>\n",
       "      <th>price</th>\n",
       "      <th>sqft_lot</th>\n",
       "      <th>waterfront</th>\n",
       "      <th>lat</th>\n",
       "      <th>has_basement</th>\n",
       "      <th>sqft_living</th>\n",
       "      <th>zip_density</th>\n",
       "    </tr>\n",
       "  </thead>\n",
       "  <tbody>\n",
       "    <tr>\n",
       "      <th>0</th>\n",
       "      <td>221900.0</td>\n",
       "      <td>0.374187</td>\n",
       "      <td>0.0</td>\n",
       "      <td>0.5112</td>\n",
       "      <td>0</td>\n",
       "      <td>0.567220</td>\n",
       "      <td>0.661690</td>\n",
       "    </tr>\n",
       "    <tr>\n",
       "      <th>1</th>\n",
       "      <td>538000.0</td>\n",
       "      <td>0.479621</td>\n",
       "      <td>0.0</td>\n",
       "      <td>0.7210</td>\n",
       "      <td>1</td>\n",
       "      <td>1.235386</td>\n",
       "      <td>0.587569</td>\n",
       "    </tr>\n",
       "    <tr>\n",
       "      <th>2</th>\n",
       "      <td>180000.0</td>\n",
       "      <td>0.662278</td>\n",
       "      <td>0.0</td>\n",
       "      <td>0.7379</td>\n",
       "      <td>0</td>\n",
       "      <td>0.370135</td>\n",
       "      <td>0.955798</td>\n",
       "    </tr>\n",
       "    <tr>\n",
       "      <th>3</th>\n",
       "      <td>604000.0</td>\n",
       "      <td>0.331139</td>\n",
       "      <td>0.0</td>\n",
       "      <td>0.5208</td>\n",
       "      <td>1</td>\n",
       "      <td>0.942162</td>\n",
       "      <td>0.011237</td>\n",
       "    </tr>\n",
       "    <tr>\n",
       "      <th>4</th>\n",
       "      <td>510000.0</td>\n",
       "      <td>0.535120</td>\n",
       "      <td>0.0</td>\n",
       "      <td>0.6168</td>\n",
       "      <td>0</td>\n",
       "      <td>0.807567</td>\n",
       "      <td>2.937626</td>\n",
       "    </tr>\n",
       "  </tbody>\n",
       "</table>\n",
       "</div>"
      ],
      "text/plain": [
       "      price  sqft_lot  waterfront     lat  has_basement  sqft_living  \\\n",
       "0  221900.0  0.374187         0.0  0.5112             0     0.567220   \n",
       "1  538000.0  0.479621         0.0  0.7210             1     1.235386   \n",
       "2  180000.0  0.662278         0.0  0.7379             0     0.370135   \n",
       "3  604000.0  0.331139         0.0  0.5208             1     0.942162   \n",
       "4  510000.0  0.535120         0.0  0.6168             0     0.807567   \n",
       "\n",
       "   zip_density  \n",
       "0     0.661690  \n",
       "1     0.587569  \n",
       "2     0.955798  \n",
       "3     0.011237  \n",
       "4     2.937626  "
      ]
     },
     "execution_count": 2,
     "metadata": {},
     "output_type": "execute_result"
    }
   ],
   "source": [
    "df.head()"
   ]
  },
  {
   "cell_type": "markdown",
   "metadata": {},
   "source": [
    "# Checking for Multicollinearity\n",
    "we still have a little bit with area and lattitude, it is best to keep all values under 5, but it is worth the increased accuracy."
   ]
  },
  {
   "cell_type": "code",
   "execution_count": 16,
   "metadata": {},
   "outputs": [
    {
     "data": {
      "text/plain": [
       "sqft_lot        1.175156\n",
       "waterfront      1.003723\n",
       "lat             6.546345\n",
       "has_basement    1.680043\n",
       "sqft_living     6.081259\n",
       "zip_density     2.681569\n",
       "dtype: float64"
      ]
     },
     "execution_count": 16,
     "metadata": {},
     "output_type": "execute_result"
    }
   ],
   "source": [
    "X = df.drop(['price'], axis='columns')\n",
    "\n",
    "pd.Series([variance_inflation_factor(X.values, i) \n",
    "               for i in range(X.shape[1])], \n",
    "              index=X.columns)"
   ]
  },
  {
   "cell_type": "markdown",
   "metadata": {},
   "source": [
    "# Building a Linear Regression Model with Statsmodels"
   ]
  },
  {
   "cell_type": "code",
   "execution_count": 17,
   "metadata": {},
   "outputs": [],
   "source": [
    "f = 'price~sqft_lot+waterfront+lat+has_basement+sqft_living+zip_density'"
   ]
  },
  {
   "cell_type": "code",
   "execution_count": 18,
   "metadata": {},
   "outputs": [],
   "source": [
    "predictor = ols(formula=f, data=df).fit()"
   ]
  },
  {
   "cell_type": "code",
   "execution_count": 19,
   "metadata": {},
   "outputs": [
    {
     "data": {
      "text/html": [
       "<table class=\"simpletable\">\n",
       "<caption>OLS Regression Results</caption>\n",
       "<tr>\n",
       "  <th>Dep. Variable:</th>          <td>price</td>      <th>  R-squared:         </th>  <td>   0.576</td>  \n",
       "</tr>\n",
       "<tr>\n",
       "  <th>Model:</th>                   <td>OLS</td>       <th>  Adj. R-squared:    </th>  <td>   0.576</td>  \n",
       "</tr>\n",
       "<tr>\n",
       "  <th>Method:</th>             <td>Least Squares</td>  <th>  F-statistic:       </th>  <td>   4650.</td>  \n",
       "</tr>\n",
       "<tr>\n",
       "  <th>Date:</th>             <td>Fri, 09 Oct 2020</td> <th>  Prob (F-statistic):</th>   <td>  0.00</td>   \n",
       "</tr>\n",
       "<tr>\n",
       "  <th>Time:</th>                 <td>09:42:18</td>     <th>  Log-Likelihood:    </th> <td>-2.7213e+05</td>\n",
       "</tr>\n",
       "<tr>\n",
       "  <th>No. Observations:</th>      <td> 20531</td>      <th>  AIC:               </th>  <td>5.443e+05</td> \n",
       "</tr>\n",
       "<tr>\n",
       "  <th>Df Residuals:</th>          <td> 20524</td>      <th>  BIC:               </th>  <td>5.443e+05</td> \n",
       "</tr>\n",
       "<tr>\n",
       "  <th>Df Model:</th>              <td>     6</td>      <th>                     </th>      <td> </td>     \n",
       "</tr>\n",
       "<tr>\n",
       "  <th>Covariance Type:</th>      <td>nonrobust</td>    <th>                     </th>      <td> </td>     \n",
       "</tr>\n",
       "</table>\n",
       "<table class=\"simpletable\">\n",
       "<tr>\n",
       "        <td></td>          <th>coef</th>     <th>std err</th>      <th>t</th>      <th>P>|t|</th>  <th>[0.025</th>    <th>0.975]</th>  \n",
       "</tr>\n",
       "<tr>\n",
       "  <th>Intercept</th>    <td>-2.133e+05</td> <td> 4668.143</td> <td>  -45.683</td> <td> 0.000</td> <td>-2.22e+05</td> <td>-2.04e+05</td>\n",
       "</tr>\n",
       "<tr>\n",
       "  <th>sqft_lot</th>     <td> 2671.3972</td> <td>  369.733</td> <td>    7.225</td> <td> 0.000</td> <td> 1946.691</td> <td> 3396.103</td>\n",
       "</tr>\n",
       "<tr>\n",
       "  <th>waterfront</th>   <td> 2.962e+05</td> <td> 1.87e+04</td> <td>   15.866</td> <td> 0.000</td> <td>  2.6e+05</td> <td> 3.33e+05</td>\n",
       "</tr>\n",
       "<tr>\n",
       "  <th>lat</th>          <td> 6.347e+05</td> <td> 6981.285</td> <td>   90.916</td> <td> 0.000</td> <td> 6.21e+05</td> <td> 6.48e+05</td>\n",
       "</tr>\n",
       "<tr>\n",
       "  <th>has_basement</th> <td>  166.5879</td> <td> 2047.070</td> <td>    0.081</td> <td> 0.935</td> <td>-3845.832</td> <td> 4179.008</td>\n",
       "</tr>\n",
       "<tr>\n",
       "  <th>sqft_living</th>  <td> 3.467e+05</td> <td> 2644.468</td> <td>  131.098</td> <td> 0.000</td> <td> 3.42e+05</td> <td> 3.52e+05</td>\n",
       "</tr>\n",
       "<tr>\n",
       "  <th>zip_density</th>  <td> 5485.8770</td> <td> 1266.592</td> <td>    4.331</td> <td> 0.000</td> <td> 3003.255</td> <td> 7968.499</td>\n",
       "</tr>\n",
       "</table>\n",
       "<table class=\"simpletable\">\n",
       "<tr>\n",
       "  <th>Omnibus:</th>       <td>2018.176</td> <th>  Durbin-Watson:     </th> <td>   1.979</td>\n",
       "</tr>\n",
       "<tr>\n",
       "  <th>Prob(Omnibus):</th>  <td> 0.000</td>  <th>  Jarque-Bera (JB):  </th> <td>3306.054</td>\n",
       "</tr>\n",
       "<tr>\n",
       "  <th>Skew:</th>           <td> 0.714</td>  <th>  Prob(JB):          </th> <td>    0.00</td>\n",
       "</tr>\n",
       "<tr>\n",
       "  <th>Kurtosis:</th>       <td> 4.352</td>  <th>  Cond. No.          </th> <td>    57.2</td>\n",
       "</tr>\n",
       "</table><br/><br/>Warnings:<br/>[1] Standard Errors assume that the covariance matrix of the errors is correctly specified."
      ],
      "text/plain": [
       "<class 'statsmodels.iolib.summary.Summary'>\n",
       "\"\"\"\n",
       "                            OLS Regression Results                            \n",
       "==============================================================================\n",
       "Dep. Variable:                  price   R-squared:                       0.576\n",
       "Model:                            OLS   Adj. R-squared:                  0.576\n",
       "Method:                 Least Squares   F-statistic:                     4650.\n",
       "Date:                Fri, 09 Oct 2020   Prob (F-statistic):               0.00\n",
       "Time:                        09:42:18   Log-Likelihood:            -2.7213e+05\n",
       "No. Observations:               20531   AIC:                         5.443e+05\n",
       "Df Residuals:                   20524   BIC:                         5.443e+05\n",
       "Df Model:                           6                                         \n",
       "Covariance Type:            nonrobust                                         \n",
       "================================================================================\n",
       "                   coef    std err          t      P>|t|      [0.025      0.975]\n",
       "--------------------------------------------------------------------------------\n",
       "Intercept    -2.133e+05   4668.143    -45.683      0.000   -2.22e+05   -2.04e+05\n",
       "sqft_lot      2671.3972    369.733      7.225      0.000    1946.691    3396.103\n",
       "waterfront    2.962e+05   1.87e+04     15.866      0.000     2.6e+05    3.33e+05\n",
       "lat           6.347e+05   6981.285     90.916      0.000    6.21e+05    6.48e+05\n",
       "has_basement   166.5879   2047.070      0.081      0.935   -3845.832    4179.008\n",
       "sqft_living   3.467e+05   2644.468    131.098      0.000    3.42e+05    3.52e+05\n",
       "zip_density   5485.8770   1266.592      4.331      0.000    3003.255    7968.499\n",
       "==============================================================================\n",
       "Omnibus:                     2018.176   Durbin-Watson:                   1.979\n",
       "Prob(Omnibus):                  0.000   Jarque-Bera (JB):             3306.054\n",
       "Skew:                           0.714   Prob(JB):                         0.00\n",
       "Kurtosis:                       4.352   Cond. No.                         57.2\n",
       "==============================================================================\n",
       "\n",
       "Warnings:\n",
       "[1] Standard Errors assume that the covariance matrix of the errors is correctly specified.\n",
       "\"\"\""
      ]
     },
     "execution_count": 19,
     "metadata": {},
     "output_type": "execute_result"
    }
   ],
   "source": [
    "predictor.summary()"
   ]
  },
  {
   "cell_type": "code",
   "execution_count": 20,
   "metadata": {},
   "outputs": [
    {
     "data": {
      "image/png": "[encoded data removed]",
      "text/plain": [
       "<Figure size 432x288 with 1 Axes>"
      ]
     },
     "metadata": {
      "needs_background": "light"
     },
     "output_type": "display_data"
    }
   ],
   "source": [
    "fig = sm.graphics.qqplot(predictor.resid, dist=stats.norm, line='45', fit=True)"
   ]
  },
  {
   "cell_type": "code",
   "execution_count": 21,
   "metadata": {},
   "outputs": [],
   "source": [
    "x_cols = list(X.columns)"
   ]
  },
  {
   "cell_type": "code",
   "execution_count": 22,
   "metadata": {},
   "outputs": [
    {
     "data": {
      "image/png": "[encoded data removed]",
      "text/plain": [
       "<Figure size 432x288 with 1 Axes>"
      ]
     },
     "metadata": {
      "needs_background": "light"
     },
     "output_type": "display_data"
    }
   ],
   "source": [
    "plt.scatter(predictor.predict(X[x_cols]), predictor.resid)\n",
    "plt.plot(predictor.predict(X[x_cols]), [0 for i in range(len(X))]);"
   ]
  },
  {
   "cell_type": "markdown",
   "metadata": {},
   "source": [
    "# Building Linear Regression Model with SKlearn"
   ]
  },
  {
   "cell_type": "code",
   "execution_count": 23,
   "metadata": {},
   "outputs": [
    {
     "data": {
      "text/plain": [
       "LinearRegression()"
      ]
     },
     "execution_count": 23,
     "metadata": {},
     "output_type": "execute_result"
    }
   ],
   "source": [
    "y = df['price']\n",
    "X_train, X_test, y_train, y_test = train_test_split(X, y, test_size=0.25)\n",
    "model = LinearRegression()\n",
    "model.fit(X_train, y_train)"
   ]
  },
  {
   "cell_type": "code",
   "execution_count": 24,
   "metadata": {},
   "outputs": [],
   "source": [
    "predicted = pd.DataFrame(model.predict(X_test))\n",
    "actual = pd.DataFrame(list(y_test))\n",
    "predicted.columns = ['Predicted Price']\n",
    "actual.columns = ['Actual Price']\n",
    "results = pd.concat([predicted, actual], axis='columns')"
   ]
  },
  {
   "cell_type": "code",
   "execution_count": 25,
   "metadata": {},
   "outputs": [],
   "source": [
    "te = []\n",
    "pe = []\n",
    "for i in range(len(results)):\n",
    "    if actual['Actual Price'][i] > predicted['Predicted Price'][i]:\n",
    "        te.append(round(results['Actual Price'][i] - predicted['Predicted Price'][i], 2))\n",
    "        pe.append(round(((results['Actual Price'][i] / predicted['Predicted Price'][i])-1)*100, 2))\n",
    "    else:\n",
    "        te.append(round(results['Predicted Price'][i] - results['Actual Price'][i], 2))\n",
    "        pe.append(round(((results['Predicted Price'][i] / results['Actual Price'][i])-1)*100, 2))"
   ]
  },
  {
   "cell_type": "code",
   "execution_count": 26,
   "metadata": {},
   "outputs": [
    {
     "data": {
      "text/html": [
       "<div>\n",
       "<style scoped>\n",
       "    .dataframe tbody tr th:only-of-type {\n",
       "        vertical-align: middle;\n",
       "    }\n",
       "\n",
       "    .dataframe tbody tr th {\n",
       "        vertical-align: top;\n",
       "    }\n",
       "\n",
       "    .dataframe thead th {\n",
       "        text-align: right;\n",
       "    }\n",
       "</style>\n",
       "<table border=\"1\" class=\"dataframe\">\n",
       "  <thead>\n",
       "    <tr style=\"text-align: right;\">\n",
       "      <th></th>\n",
       "      <th>Predicted Price</th>\n",
       "      <th>Actual Price</th>\n",
       "      <th>% Error</th>\n",
       "      <th>$ Error</th>\n",
       "    </tr>\n",
       "  </thead>\n",
       "  <tbody>\n",
       "    <tr>\n",
       "      <th>0</th>\n",
       "      <td>539711.527819</td>\n",
       "      <td>659500.0</td>\n",
       "      <td>22.19</td>\n",
       "      <td>119788.47</td>\n",
       "    </tr>\n",
       "    <tr>\n",
       "      <th>1</th>\n",
       "      <td>261132.657234</td>\n",
       "      <td>215000.0</td>\n",
       "      <td>21.46</td>\n",
       "      <td>46132.66</td>\n",
       "    </tr>\n",
       "    <tr>\n",
       "      <th>2</th>\n",
       "      <td>578183.447170</td>\n",
       "      <td>545000.0</td>\n",
       "      <td>6.09</td>\n",
       "      <td>33183.45</td>\n",
       "    </tr>\n",
       "    <tr>\n",
       "      <th>3</th>\n",
       "      <td>242483.121402</td>\n",
       "      <td>276200.0</td>\n",
       "      <td>13.90</td>\n",
       "      <td>33716.88</td>\n",
       "    </tr>\n",
       "    <tr>\n",
       "      <th>4</th>\n",
       "      <td>479846.614733</td>\n",
       "      <td>550000.0</td>\n",
       "      <td>14.62</td>\n",
       "      <td>70153.39</td>\n",
       "    </tr>\n",
       "    <tr>\n",
       "      <th>...</th>\n",
       "      <td>...</td>\n",
       "      <td>...</td>\n",
       "      <td>...</td>\n",
       "      <td>...</td>\n",
       "    </tr>\n",
       "    <tr>\n",
       "      <th>5128</th>\n",
       "      <td>648726.897095</td>\n",
       "      <td>645000.0</td>\n",
       "      <td>0.58</td>\n",
       "      <td>3726.90</td>\n",
       "    </tr>\n",
       "    <tr>\n",
       "      <th>5129</th>\n",
       "      <td>536919.378107</td>\n",
       "      <td>913888.0</td>\n",
       "      <td>70.21</td>\n",
       "      <td>376968.62</td>\n",
       "    </tr>\n",
       "    <tr>\n",
       "      <th>5130</th>\n",
       "      <td>361623.764638</td>\n",
       "      <td>291000.0</td>\n",
       "      <td>24.27</td>\n",
       "      <td>70623.76</td>\n",
       "    </tr>\n",
       "    <tr>\n",
       "      <th>5131</th>\n",
       "      <td>532888.490304</td>\n",
       "      <td>505000.0</td>\n",
       "      <td>5.52</td>\n",
       "      <td>27888.49</td>\n",
       "    </tr>\n",
       "    <tr>\n",
       "      <th>5132</th>\n",
       "      <td>479593.595531</td>\n",
       "      <td>604700.0</td>\n",
       "      <td>26.09</td>\n",
       "      <td>125106.40</td>\n",
       "    </tr>\n",
       "  </tbody>\n",
       "</table>\n",
       "<p>5133 rows × 4 columns</p>\n",
       "</div>"
      ],
      "text/plain": [
       "      Predicted Price  Actual Price  % Error    $ Error\n",
       "0       539711.527819      659500.0    22.19  119788.47\n",
       "1       261132.657234      215000.0    21.46   46132.66\n",
       "2       578183.447170      545000.0     6.09   33183.45\n",
       "3       242483.121402      276200.0    13.90   33716.88\n",
       "4       479846.614733      550000.0    14.62   70153.39\n",
       "...               ...           ...      ...        ...\n",
       "5128    648726.897095      645000.0     0.58    3726.90\n",
       "5129    536919.378107      913888.0    70.21  376968.62\n",
       "5130    361623.764638      291000.0    24.27   70623.76\n",
       "5131    532888.490304      505000.0     5.52   27888.49\n",
       "5132    479593.595531      604700.0    26.09  125106.40\n",
       "\n",
       "[5133 rows x 4 columns]"
      ]
     },
     "execution_count": 26,
     "metadata": {},
     "output_type": "execute_result"
    }
   ],
   "source": [
    "results['% Error'] = pe\n",
    "results['$ Error'] = te\n",
    "results"
   ]
  },
  {
   "cell_type": "code",
   "execution_count": 27,
   "metadata": {},
   "outputs": [
    {
     "data": {
      "text/plain": [
       "0.5877322595700503"
      ]
     },
     "execution_count": 27,
     "metadata": {},
     "output_type": "execute_result"
    }
   ],
   "source": [
    "model.score(X_test, y_test)"
   ]
  },
  {
   "cell_type": "code",
   "execution_count": 29,
   "metadata": {},
   "outputs": [
    {
     "data": {
      "text/plain": [
       "array([2.27335777e+03, 2.75752973e+05, 6.32520938e+05, 3.74912021e+02,\n",
       "       3.46091065e+05, 6.30378953e+03])"
      ]
     },
     "execution_count": 29,
     "metadata": {},
     "output_type": "execute_result"
    }
   ],
   "source": [
    "model.coef_"
   ]
  },
  {
   "cell_type": "code",
   "execution_count": 30,
   "metadata": {},
   "outputs": [
    {
     "data": {
      "text/plain": [
       "-211966.41444323014"
      ]
     },
     "execution_count": 30,
     "metadata": {},
     "output_type": "execute_result"
    }
   ],
   "source": [
    "model.intercept_"
   ]
  }
 ],
 "metadata": {
  "kernelspec": {
   "display_name": "Python 3",
   "language": "python",
   "name": "python3"
  },
  "language_info": {
   "codemirror_mode": {
    "name": "ipython",
    "version": 3
   },
   "file_extension": ".py",
   "mimetype": "text/x-python",
   "name": "python",
   "nbconvert_exporter": "python",
   "pygments_lexer": "ipython3",
   "version": "3.6.9"
  }
 },
 "nbformat": 4,
 "nbformat_minor": 4
}
