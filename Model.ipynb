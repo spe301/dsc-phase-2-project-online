{
 "cells": [
  {
   "cell_type": "code",
   "execution_count": 1,
   "metadata": {},
   "outputs": [],
   "source": [
    "import pandas as pd\n",
    "import numpy as np\n",
    "import statsmodels.api as sm\n",
    "from statsmodels.formula.api import ols\n",
    "from statsmodels.stats.outliers_influence import variance_inflation_factor\n",
    "from statsmodels.tools.tools import add_constant\n",
    "import scipy.stats as stats\n",
    "from matplotlib import pyplot as plt\n",
    "from sklearn.model_selection import train_test_split\n",
    "from sklearn.linear_model import LinearRegression\n",
    "df = pd.read_csv(r'C:\\Users\\aacjp\\KC_Final.csv')"
   ]
  },
  {
   "cell_type": "code",
   "execution_count": 2,
   "metadata": {},
   "outputs": [
    {
     "data": {
      "text/html": [
       "<div>\n",
       "<style scoped>\n",
       "    .dataframe tbody tr th:only-of-type {\n",
       "        vertical-align: middle;\n",
       "    }\n",
       "\n",
       "    .dataframe tbody tr th {\n",
       "        vertical-align: top;\n",
       "    }\n",
       "\n",
       "    .dataframe thead th {\n",
       "        text-align: right;\n",
       "    }\n",
       "</style>\n",
       "<table border=\"1\" class=\"dataframe\">\n",
       "  <thead>\n",
       "    <tr style=\"text-align: right;\">\n",
       "      <th></th>\n",
       "      <th>price</th>\n",
       "      <th>sqft_lot</th>\n",
       "      <th>waterfront</th>\n",
       "      <th>lat</th>\n",
       "      <th>has_basement</th>\n",
       "      <th>sqft_living</th>\n",
       "      <th>zip_density</th>\n",
       "    </tr>\n",
       "  </thead>\n",
       "  <tbody>\n",
       "    <tr>\n",
       "      <th>0</th>\n",
       "      <td>221900.0</td>\n",
       "      <td>0.374187</td>\n",
       "      <td>0.0</td>\n",
       "      <td>0.5112</td>\n",
       "      <td>0</td>\n",
       "      <td>0.567220</td>\n",
       "      <td>0.661690</td>\n",
       "    </tr>\n",
       "    <tr>\n",
       "      <th>1</th>\n",
       "      <td>538000.0</td>\n",
       "      <td>0.479621</td>\n",
       "      <td>0.0</td>\n",
       "      <td>0.7210</td>\n",
       "      <td>1</td>\n",
       "      <td>1.235386</td>\n",
       "      <td>0.587569</td>\n",
       "    </tr>\n",
       "    <tr>\n",
       "      <th>2</th>\n",
       "      <td>180000.0</td>\n",
       "      <td>0.662278</td>\n",
       "      <td>0.0</td>\n",
       "      <td>0.7379</td>\n",
       "      <td>0</td>\n",
       "      <td>0.370135</td>\n",
       "      <td>0.955798</td>\n",
       "    </tr>\n",
       "    <tr>\n",
       "      <th>3</th>\n",
       "      <td>604000.0</td>\n",
       "      <td>0.331139</td>\n",
       "      <td>0.0</td>\n",
       "      <td>0.5208</td>\n",
       "      <td>1</td>\n",
       "      <td>0.942162</td>\n",
       "      <td>0.011237</td>\n",
       "    </tr>\n",
       "    <tr>\n",
       "      <th>4</th>\n",
       "      <td>510000.0</td>\n",
       "      <td>0.535120</td>\n",
       "      <td>0.0</td>\n",
       "      <td>0.6168</td>\n",
       "      <td>0</td>\n",
       "      <td>0.807567</td>\n",
       "      <td>2.937626</td>\n",
       "    </tr>\n",
       "  </tbody>\n",
       "</table>\n",
       "</div>"
      ],
      "text/plain": [
       "      price  sqft_lot  waterfront     lat  has_basement  sqft_living  \\\n",
       "0  221900.0  0.374187         0.0  0.5112             0     0.567220   \n",
       "1  538000.0  0.479621         0.0  0.7210             1     1.235386   \n",
       "2  180000.0  0.662278         0.0  0.7379             0     0.370135   \n",
       "3  604000.0  0.331139         0.0  0.5208             1     0.942162   \n",
       "4  510000.0  0.535120         0.0  0.6168             0     0.807567   \n",
       "\n",
       "   zip_density  \n",
       "0     0.661690  \n",
       "1     0.587569  \n",
       "2     0.955798  \n",
       "3     0.011237  \n",
       "4     2.937626  "
      ]
     },
     "execution_count": 2,
     "metadata": {},
     "output_type": "execute_result"
    }
   ],
   "source": [
    "df.head()"
   ]
  },
  {
   "cell_type": "markdown",
   "metadata": {},
   "source": [
    "# Checking for Multicollinearity\n",
    "we still have a little bit with area and lattitude, it is best to keep all values under 5, but it is worth the increased accuracy."
   ]
  },
  {
   "cell_type": "code",
   "execution_count": 54,
   "metadata": {},
   "outputs": [
    {
     "data": {
      "text/plain": [
       "sqft_lot        1.170035\n",
       "waterfront      1.003535\n",
       "has_basement    1.628774\n",
       "sqft_living     3.085329\n",
       "zip_density     2.295262\n",
       "dtype: float64"
      ]
     },
     "execution_count": 54,
     "metadata": {},
     "output_type": "execute_result"
    }
   ],
   "source": [
    "X = df.drop(['price', 'lat'], axis='columns')\n",
    "\n",
    "pd.Series([variance_inflation_factor(X.values, i) \n",
    "               for i in range(X.shape[1])], \n",
    "              index=X.columns)"
   ]
  },
  {
   "cell_type": "markdown",
   "metadata": {},
   "source": [
    "# Building a Linear Regression Model with Statsmodels"
   ]
  },
  {
   "cell_type": "markdown",
   "metadata": {},
   "source": [
    "Doing a train test split first."
   ]
  },
  {
   "cell_type": "code",
   "execution_count": 66,
   "metadata": {},
   "outputs": [],
   "source": [
    "y = df['price']\n",
    "X_train, X_test, y_train, y_test = train_test_split(X, y, test_size=0.25)\n",
    "train_df = pd.concat([X_train, y_train], axis='columns')"
   ]
  },
  {
   "cell_type": "code",
   "execution_count": 67,
   "metadata": {},
   "outputs": [],
   "source": [
    "f = 'price~sqft_lot+waterfront+has_basement+sqft_living+zip_density-1'"
   ]
  },
  {
   "cell_type": "code",
   "execution_count": 68,
   "metadata": {},
   "outputs": [],
   "source": [
    "predictor = ols(formula=f, data=train_df).fit()"
   ]
  },
  {
   "cell_type": "code",
   "execution_count": 69,
   "metadata": {},
   "outputs": [
    {
     "data": {
      "text/html": [
       "<table class=\"simpletable\">\n",
       "<caption>OLS Regression Results</caption>\n",
       "<tr>\n",
       "  <th>Dep. Variable:</th>          <td>price</td>      <th>  R-squared (uncentered):</th>       <td>   0.897</td>  \n",
       "</tr>\n",
       "<tr>\n",
       "  <th>Model:</th>                   <td>OLS</td>       <th>  Adj. R-squared (uncentered):</th>  <td>   0.897</td>  \n",
       "</tr>\n",
       "<tr>\n",
       "  <th>Method:</th>             <td>Least Squares</td>  <th>  F-statistic:       </th>           <td>2.678e+04</td> \n",
       "</tr>\n",
       "<tr>\n",
       "  <th>Date:</th>             <td>Fri, 09 Oct 2020</td> <th>  Prob (F-statistic):</th>            <td>  0.00</td>   \n",
       "</tr>\n",
       "<tr>\n",
       "  <th>Time:</th>                 <td>17:17:44</td>     <th>  Log-Likelihood:    </th>          <td>-2.0714e+05</td>\n",
       "</tr>\n",
       "<tr>\n",
       "  <th>No. Observations:</th>      <td> 15398</td>      <th>  AIC:               </th>           <td>4.143e+05</td> \n",
       "</tr>\n",
       "<tr>\n",
       "  <th>Df Residuals:</th>          <td> 15393</td>      <th>  BIC:               </th>           <td>4.143e+05</td> \n",
       "</tr>\n",
       "<tr>\n",
       "  <th>Df Model:</th>              <td>     5</td>      <th>                     </th>               <td> </td>     \n",
       "</tr>\n",
       "<tr>\n",
       "  <th>Covariance Type:</th>      <td>nonrobust</td>    <th>                     </th>               <td> </td>     \n",
       "</tr>\n",
       "</table>\n",
       "<table class=\"simpletable\">\n",
       "<tr>\n",
       "        <td></td>          <th>coef</th>     <th>std err</th>      <th>t</th>      <th>P>|t|</th>  <th>[0.025</th>    <th>0.975]</th>  \n",
       "</tr>\n",
       "<tr>\n",
       "  <th>sqft_lot</th>     <td>   54.7582</td> <td>  492.238</td> <td>    0.111</td> <td> 0.911</td> <td> -910.087</td> <td> 1019.603</td>\n",
       "</tr>\n",
       "<tr>\n",
       "  <th>waterfront</th>   <td> 2.258e+05</td> <td> 2.54e+04</td> <td>    8.881</td> <td> 0.000</td> <td> 1.76e+05</td> <td> 2.76e+05</td>\n",
       "</tr>\n",
       "<tr>\n",
       "  <th>has_basement</th> <td>  3.73e+04</td> <td> 2832.877</td> <td>   13.168</td> <td> 0.000</td> <td> 3.18e+04</td> <td> 4.29e+04</td>\n",
       "</tr>\n",
       "<tr>\n",
       "  <th>sqft_living</th>  <td> 4.309e+05</td> <td> 2307.878</td> <td>  186.726</td> <td> 0.000</td> <td> 4.26e+05</td> <td> 4.35e+05</td>\n",
       "</tr>\n",
       "<tr>\n",
       "  <th>zip_density</th>  <td> 4.074e+04</td> <td> 1628.068</td> <td>   25.026</td> <td> 0.000</td> <td> 3.76e+04</td> <td> 4.39e+04</td>\n",
       "</tr>\n",
       "</table>\n",
       "<table class=\"simpletable\">\n",
       "<tr>\n",
       "  <th>Omnibus:</th>       <td>493.803</td> <th>  Durbin-Watson:     </th> <td>   1.982</td> \n",
       "</tr>\n",
       "<tr>\n",
       "  <th>Prob(Omnibus):</th> <td> 0.000</td>  <th>  Jarque-Bera (JB):  </th> <td> 587.122</td> \n",
       "</tr>\n",
       "<tr>\n",
       "  <th>Skew:</th>          <td> 0.398</td>  <th>  Prob(JB):          </th> <td>3.22e-128</td>\n",
       "</tr>\n",
       "<tr>\n",
       "  <th>Kurtosis:</th>      <td> 3.530</td>  <th>  Cond. No.          </th> <td>    56.5</td> \n",
       "</tr>\n",
       "</table><br/><br/>Warnings:<br/>[1] Standard Errors assume that the covariance matrix of the errors is correctly specified."
      ],
      "text/plain": [
       "<class 'statsmodels.iolib.summary.Summary'>\n",
       "\"\"\"\n",
       "                                 OLS Regression Results                                \n",
       "=======================================================================================\n",
       "Dep. Variable:                  price   R-squared (uncentered):                   0.897\n",
       "Model:                            OLS   Adj. R-squared (uncentered):              0.897\n",
       "Method:                 Least Squares   F-statistic:                          2.678e+04\n",
       "Date:                Fri, 09 Oct 2020   Prob (F-statistic):                        0.00\n",
       "Time:                        17:17:44   Log-Likelihood:                     -2.0714e+05\n",
       "No. Observations:               15398   AIC:                                  4.143e+05\n",
       "Df Residuals:                   15393   BIC:                                  4.143e+05\n",
       "Df Model:                           5                                                  \n",
       "Covariance Type:            nonrobust                                                  \n",
       "================================================================================\n",
       "                   coef    std err          t      P>|t|      [0.025      0.975]\n",
       "--------------------------------------------------------------------------------\n",
       "sqft_lot        54.7582    492.238      0.111      0.911    -910.087    1019.603\n",
       "waterfront    2.258e+05   2.54e+04      8.881      0.000    1.76e+05    2.76e+05\n",
       "has_basement   3.73e+04   2832.877     13.168      0.000    3.18e+04    4.29e+04\n",
       "sqft_living   4.309e+05   2307.878    186.726      0.000    4.26e+05    4.35e+05\n",
       "zip_density   4.074e+04   1628.068     25.026      0.000    3.76e+04    4.39e+04\n",
       "==============================================================================\n",
       "Omnibus:                      493.803   Durbin-Watson:                   1.982\n",
       "Prob(Omnibus):                  0.000   Jarque-Bera (JB):              587.122\n",
       "Skew:                           0.398   Prob(JB):                    3.22e-128\n",
       "Kurtosis:                       3.530   Cond. No.                         56.5\n",
       "==============================================================================\n",
       "\n",
       "Warnings:\n",
       "[1] Standard Errors assume that the covariance matrix of the errors is correctly specified.\n",
       "\"\"\""
      ]
     },
     "execution_count": 69,
     "metadata": {},
     "output_type": "execute_result"
    }
   ],
   "source": [
    "predictor.summary()"
   ]
  },
  {
   "cell_type": "code",
   "execution_count": 70,
   "metadata": {},
   "outputs": [
    {
     "data": {
      "image/png": "[encoded data removed]",
      "text/plain": [
       "<Figure size 432x288 with 1 Axes>"
      ]
     },
     "metadata": {
      "needs_background": "light"
     },
     "output_type": "display_data"
    }
   ],
   "source": [
    "fig = sm.graphics.qqplot(predictor.resid, dist=stats.norm, line='45', fit=True)"
   ]
  },
  {
   "cell_type": "code",
   "execution_count": 73,
   "metadata": {},
   "outputs": [],
   "source": [
    "x_cols = list(X_train.columns)"
   ]
  },
  {
   "cell_type": "code",
   "execution_count": 75,
   "metadata": {},
   "outputs": [
    {
     "data": {
      "image/png": "[encoded data removed]",
      "text/plain": [
       "<Figure size 432x288 with 1 Axes>"
      ]
     },
     "metadata": {
      "needs_background": "light"
     },
     "output_type": "display_data"
    }
   ],
   "source": [
    "plt.scatter(predictor.predict(X_train[x_cols]), predictor.resid)\n",
    "plt.plot(predictor.predict(X_train[x_cols]), [0 for i in range(len(X_train))]);"
   ]
  },
  {
   "cell_type": "markdown",
   "metadata": {},
   "source": [
    "# Putting results in a table"
   ]
  },
  {
   "cell_type": "code",
   "execution_count": 76,
   "metadata": {},
   "outputs": [],
   "source": [
    "results = pd.DataFrame(list(predictor.predict(X_test)))\n",
    "results.columns = ['Predicted Price']\n",
    "results['Actual Price'] = list(y_test)"
   ]
  },
  {
   "cell_type": "code",
   "execution_count": 77,
   "metadata": {},
   "outputs": [],
   "source": [
    "te = []\n",
    "pe = []\n",
    "for i in range(len(results)):\n",
    "    if results['Actual Price'][i] > results['Predicted Price'][i]:\n",
    "        te.append(round(results['Actual Price'][i] - results['Predicted Price'][i], 2))\n",
    "        pe.append(round(((results['Actual Price'][i] / results['Predicted Price'][i])-1)*100, 2))\n",
    "    else:\n",
    "        te.append(round(results['Predicted Price'][i] - results['Actual Price'][i], 2))\n",
    "        pe.append(round(((results['Predicted Price'][i] / results['Actual Price'][i])-1)*100, 2))"
   ]
  },
  {
   "cell_type": "code",
   "execution_count": 78,
   "metadata": {},
   "outputs": [
    {
     "data": {
      "text/html": [
       "<div>\n",
       "<style scoped>\n",
       "    .dataframe tbody tr th:only-of-type {\n",
       "        vertical-align: middle;\n",
       "    }\n",
       "\n",
       "    .dataframe tbody tr th {\n",
       "        vertical-align: top;\n",
       "    }\n",
       "\n",
       "    .dataframe thead th {\n",
       "        text-align: right;\n",
       "    }\n",
       "</style>\n",
       "<table border=\"1\" class=\"dataframe\">\n",
       "  <thead>\n",
       "    <tr style=\"text-align: right;\">\n",
       "      <th></th>\n",
       "      <th>Predicted Price</th>\n",
       "      <th>Actual Price</th>\n",
       "      <th>$ Error</th>\n",
       "      <th>% Error</th>\n",
       "    </tr>\n",
       "  </thead>\n",
       "  <tbody>\n",
       "    <tr>\n",
       "      <th>0</th>\n",
       "      <td>315641.222749</td>\n",
       "      <td>252000.0</td>\n",
       "      <td>63641.22</td>\n",
       "      <td>25.25</td>\n",
       "    </tr>\n",
       "    <tr>\n",
       "      <th>1</th>\n",
       "      <td>751817.657384</td>\n",
       "      <td>845000.0</td>\n",
       "      <td>93182.34</td>\n",
       "      <td>12.39</td>\n",
       "    </tr>\n",
       "    <tr>\n",
       "      <th>2</th>\n",
       "      <td>474924.261882</td>\n",
       "      <td>390000.0</td>\n",
       "      <td>84924.26</td>\n",
       "      <td>21.78</td>\n",
       "    </tr>\n",
       "    <tr>\n",
       "      <th>3</th>\n",
       "      <td>391622.336972</td>\n",
       "      <td>375000.0</td>\n",
       "      <td>16622.34</td>\n",
       "      <td>4.43</td>\n",
       "    </tr>\n",
       "    <tr>\n",
       "      <th>4</th>\n",
       "      <td>428243.709292</td>\n",
       "      <td>616300.0</td>\n",
       "      <td>188056.29</td>\n",
       "      <td>43.91</td>\n",
       "    </tr>\n",
       "    <tr>\n",
       "      <th>...</th>\n",
       "      <td>...</td>\n",
       "      <td>...</td>\n",
       "      <td>...</td>\n",
       "      <td>...</td>\n",
       "    </tr>\n",
       "    <tr>\n",
       "      <th>5128</th>\n",
       "      <td>354801.700518</td>\n",
       "      <td>290000.0</td>\n",
       "      <td>64801.70</td>\n",
       "      <td>22.35</td>\n",
       "    </tr>\n",
       "    <tr>\n",
       "      <th>5129</th>\n",
       "      <td>282105.270380</td>\n",
       "      <td>310000.0</td>\n",
       "      <td>27894.73</td>\n",
       "      <td>9.89</td>\n",
       "    </tr>\n",
       "    <tr>\n",
       "      <th>5130</th>\n",
       "      <td>377109.604355</td>\n",
       "      <td>295700.0</td>\n",
       "      <td>81409.60</td>\n",
       "      <td>27.53</td>\n",
       "    </tr>\n",
       "    <tr>\n",
       "      <th>5131</th>\n",
       "      <td>682329.157123</td>\n",
       "      <td>755000.0</td>\n",
       "      <td>72670.84</td>\n",
       "      <td>10.65</td>\n",
       "    </tr>\n",
       "    <tr>\n",
       "      <th>5132</th>\n",
       "      <td>581408.330836</td>\n",
       "      <td>635000.0</td>\n",
       "      <td>53591.67</td>\n",
       "      <td>9.22</td>\n",
       "    </tr>\n",
       "  </tbody>\n",
       "</table>\n",
       "<p>5133 rows × 4 columns</p>\n",
       "</div>"
      ],
      "text/plain": [
       "      Predicted Price  Actual Price    $ Error  % Error\n",
       "0       315641.222749      252000.0   63641.22    25.25\n",
       "1       751817.657384      845000.0   93182.34    12.39\n",
       "2       474924.261882      390000.0   84924.26    21.78\n",
       "3       391622.336972      375000.0   16622.34     4.43\n",
       "4       428243.709292      616300.0  188056.29    43.91\n",
       "...               ...           ...        ...      ...\n",
       "5128    354801.700518      290000.0   64801.70    22.35\n",
       "5129    282105.270380      310000.0   27894.73     9.89\n",
       "5130    377109.604355      295700.0   81409.60    27.53\n",
       "5131    682329.157123      755000.0   72670.84    10.65\n",
       "5132    581408.330836      635000.0   53591.67     9.22\n",
       "\n",
       "[5133 rows x 4 columns]"
      ]
     },
     "execution_count": 78,
     "metadata": {},
     "output_type": "execute_result"
    }
   ],
   "source": [
    "results['$ Error'] = te\n",
    "results['% Error'] = pe\n",
    "results"
   ]
  },
  {
   "cell_type": "code",
   "execution_count": null,
   "metadata": {},
   "outputs": [],
   "source": []
  }
 ],
 "metadata": {
  "kernelspec": {
   "display_name": "Python 3",
   "language": "python",
   "name": "python3"
  },
  "language_info": {
   "codemirror_mode": {
    "name": "ipython",
    "version": 3
   },
   "file_extension": ".py",
   "mimetype": "text/x-python",
   "name": "python",
   "nbconvert_exporter": "python",
   "pygments_lexer": "ipython3",
   "version": "3.6.9"
  }
 },
 "nbformat": 4,
 "nbformat_minor": 4
}
