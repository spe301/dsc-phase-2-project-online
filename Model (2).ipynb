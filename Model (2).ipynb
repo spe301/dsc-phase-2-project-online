{
 "cells": [
  {
   "cell_type": "code",
   "execution_count": 16,
   "metadata": {},
   "outputs": [],
   "source": [
    "import pandas as pd\n",
    "import numpy as np\n",
    "import statsmodels.api as sm\n",
    "from statsmodels.formula.api import ols\n",
    "from statsmodels.stats.outliers_influence import variance_inflation_factor\n",
    "from statsmodels.tools.tools import add_constant\n",
    "import scipy.stats as stats\n",
    "from matplotlib import pyplot as plt\n",
    "from sklearn.model_selection import train_test_split\n",
    "from sklearn.linear_model import LinearRegression\n",
    "dataframe = pd.read_csv(r'C:\\Users\\aacjp\\KC_Final.csv')\n",
    "add_in = pd.read_csv(r'C:\\Users\\aacjp\\frm_seattle.csv')"
   ]
  },
  {
   "cell_type": "code",
   "execution_count": 17,
   "metadata": {},
   "outputs": [
    {
     "data": {
      "text/html": [
       "<div>\n",
       "<style scoped>\n",
       "    .dataframe tbody tr th:only-of-type {\n",
       "        vertical-align: middle;\n",
       "    }\n",
       "\n",
       "    .dataframe tbody tr th {\n",
       "        vertical-align: top;\n",
       "    }\n",
       "\n",
       "    .dataframe thead th {\n",
       "        text-align: right;\n",
       "    }\n",
       "</style>\n",
       "<table border=\"1\" class=\"dataframe\">\n",
       "  <thead>\n",
       "    <tr style=\"text-align: right;\">\n",
       "      <th></th>\n",
       "      <th>price</th>\n",
       "      <th>sqft_lot</th>\n",
       "      <th>waterfront</th>\n",
       "      <th>lat</th>\n",
       "      <th>has_basement</th>\n",
       "      <th>sqft_living</th>\n",
       "      <th>zip_density</th>\n",
       "      <th>distance</th>\n",
       "    </tr>\n",
       "  </thead>\n",
       "  <tbody>\n",
       "    <tr>\n",
       "      <th>0</th>\n",
       "      <td>221900.0</td>\n",
       "      <td>0.374187</td>\n",
       "      <td>0.0</td>\n",
       "      <td>0.5112</td>\n",
       "      <td>0</td>\n",
       "      <td>0.567220</td>\n",
       "      <td>0.661690</td>\n",
       "      <td>7.2</td>\n",
       "    </tr>\n",
       "    <tr>\n",
       "      <th>1</th>\n",
       "      <td>538000.0</td>\n",
       "      <td>0.479621</td>\n",
       "      <td>0.0</td>\n",
       "      <td>0.7210</td>\n",
       "      <td>1</td>\n",
       "      <td>1.235386</td>\n",
       "      <td>0.587569</td>\n",
       "      <td>8.2</td>\n",
       "    </tr>\n",
       "    <tr>\n",
       "      <th>2</th>\n",
       "      <td>180000.0</td>\n",
       "      <td>0.662278</td>\n",
       "      <td>0.0</td>\n",
       "      <td>0.7379</td>\n",
       "      <td>0</td>\n",
       "      <td>0.370135</td>\n",
       "      <td>0.955798</td>\n",
       "      <td>10.4</td>\n",
       "    </tr>\n",
       "    <tr>\n",
       "      <th>3</th>\n",
       "      <td>604000.0</td>\n",
       "      <td>0.331139</td>\n",
       "      <td>0.0</td>\n",
       "      <td>0.5208</td>\n",
       "      <td>1</td>\n",
       "      <td>0.942162</td>\n",
       "      <td>0.011237</td>\n",
       "      <td>6.4</td>\n",
       "    </tr>\n",
       "    <tr>\n",
       "      <th>4</th>\n",
       "      <td>510000.0</td>\n",
       "      <td>0.535120</td>\n",
       "      <td>0.0</td>\n",
       "      <td>0.6168</td>\n",
       "      <td>0</td>\n",
       "      <td>0.807567</td>\n",
       "      <td>2.937626</td>\n",
       "      <td>13.3</td>\n",
       "    </tr>\n",
       "    <tr>\n",
       "      <th>...</th>\n",
       "      <td>...</td>\n",
       "      <td>...</td>\n",
       "      <td>...</td>\n",
       "      <td>...</td>\n",
       "      <td>...</td>\n",
       "      <td>...</td>\n",
       "      <td>...</td>\n",
       "      <td>...</td>\n",
       "    </tr>\n",
       "    <tr>\n",
       "      <th>20526</th>\n",
       "      <td>360000.0</td>\n",
       "      <td>0.074904</td>\n",
       "      <td>0.0</td>\n",
       "      <td>0.6993</td>\n",
       "      <td>0</td>\n",
       "      <td>0.735463</td>\n",
       "      <td>0.472173</td>\n",
       "      <td>6.7</td>\n",
       "    </tr>\n",
       "    <tr>\n",
       "      <th>20527</th>\n",
       "      <td>400000.0</td>\n",
       "      <td>0.384982</td>\n",
       "      <td>0.0</td>\n",
       "      <td>0.5107</td>\n",
       "      <td>0</td>\n",
       "      <td>1.110405</td>\n",
       "      <td>0.935701</td>\n",
       "      <td>6.5</td>\n",
       "    </tr>\n",
       "    <tr>\n",
       "      <th>20528</th>\n",
       "      <td>402101.0</td>\n",
       "      <td>0.089407</td>\n",
       "      <td>0.0</td>\n",
       "      <td>0.5944</td>\n",
       "      <td>0</td>\n",
       "      <td>0.490309</td>\n",
       "      <td>0.798696</td>\n",
       "      <td>1.6</td>\n",
       "    </tr>\n",
       "    <tr>\n",
       "      <th>20529</th>\n",
       "      <td>400000.0</td>\n",
       "      <td>0.158152</td>\n",
       "      <td>0.0</td>\n",
       "      <td>0.5345</td>\n",
       "      <td>0</td>\n",
       "      <td>0.769112</td>\n",
       "      <td>2.140444</td>\n",
       "      <td>13.1</td>\n",
       "    </tr>\n",
       "    <tr>\n",
       "      <th>20530</th>\n",
       "      <td>325000.0</td>\n",
       "      <td>0.071261</td>\n",
       "      <td>0.0</td>\n",
       "      <td>0.5941</td>\n",
       "      <td>0</td>\n",
       "      <td>0.490309</td>\n",
       "      <td>0.798696</td>\n",
       "      <td>1.6</td>\n",
       "    </tr>\n",
       "  </tbody>\n",
       "</table>\n",
       "<p>20531 rows × 8 columns</p>\n",
       "</div>"
      ],
      "text/plain": [
       "          price  sqft_lot  waterfront     lat  has_basement  sqft_living  \\\n",
       "0      221900.0  0.374187         0.0  0.5112             0     0.567220   \n",
       "1      538000.0  0.479621         0.0  0.7210             1     1.235386   \n",
       "2      180000.0  0.662278         0.0  0.7379             0     0.370135   \n",
       "3      604000.0  0.331139         0.0  0.5208             1     0.942162   \n",
       "4      510000.0  0.535120         0.0  0.6168             0     0.807567   \n",
       "...         ...       ...         ...     ...           ...          ...   \n",
       "20526  360000.0  0.074904         0.0  0.6993             0     0.735463   \n",
       "20527  400000.0  0.384982         0.0  0.5107             0     1.110405   \n",
       "20528  402101.0  0.089407         0.0  0.5944             0     0.490309   \n",
       "20529  400000.0  0.158152         0.0  0.5345             0     0.769112   \n",
       "20530  325000.0  0.071261         0.0  0.5941             0     0.490309   \n",
       "\n",
       "       zip_density  distance  \n",
       "0         0.661690       7.2  \n",
       "1         0.587569       8.2  \n",
       "2         0.955798      10.4  \n",
       "3         0.011237       6.4  \n",
       "4         2.937626      13.3  \n",
       "...            ...       ...  \n",
       "20526     0.472173       6.7  \n",
       "20527     0.935701       6.5  \n",
       "20528     0.798696       1.6  \n",
       "20529     2.140444      13.1  \n",
       "20530     0.798696       1.6  \n",
       "\n",
       "[20531 rows x 8 columns]"
      ]
     },
     "execution_count": 17,
     "metadata": {},
     "output_type": "execute_result"
    }
   ],
   "source": [
    "df = pd.concat([dataframe, add_in], axis='columns')\n",
    "df"
   ]
  },
  {
   "cell_type": "markdown",
   "metadata": {},
   "source": [
    "# Checking for Multicollinearity\n",
    "we still have a little bit with area and lattitude, it is best to keep all values under 5, but it is worth the increased accuracy."
   ]
  },
  {
   "cell_type": "code",
   "execution_count": 40,
   "metadata": {},
   "outputs": [
    {
     "data": {
      "text/plain": [
       "sqft_lot        1.213169\n",
       "waterfront      1.003706\n",
       "has_basement    1.703567\n",
       "sqft_living     5.252351\n",
       "zip_density     2.430823\n",
       "distance        3.894907\n",
       "dtype: float64"
      ]
     },
     "execution_count": 40,
     "metadata": {},
     "output_type": "execute_result"
    }
   ],
   "source": [
    "X = df.drop(['price', 'lat'], axis='columns')\n",
    "\n",
    "pd.Series([variance_inflation_factor(X.values, i) \n",
    "               for i in range(X.shape[1])], \n",
    "              index=X.columns)"
   ]
  },
  {
   "cell_type": "markdown",
   "metadata": {},
   "source": [
    "# Building a Linear Regression Model with Statsmodels"
   ]
  },
  {
   "cell_type": "markdown",
   "metadata": {},
   "source": [
    "Doing a train test split first."
   ]
  },
  {
   "cell_type": "code",
   "execution_count": 41,
   "metadata": {},
   "outputs": [],
   "source": [
    "y = df['price']\n",
    "X_train, X_test, y_train, y_test = train_test_split(X, y, test_size=0.25)\n",
    "train_df = pd.concat([X_train, y_train], axis='columns')"
   ]
  },
  {
   "cell_type": "code",
   "execution_count": 42,
   "metadata": {},
   "outputs": [],
   "source": [
    "f = 'price~sqft_lot+waterfront+has_basement+sqft_living+zip_density-1'"
   ]
  },
  {
   "cell_type": "code",
   "execution_count": 43,
   "metadata": {},
   "outputs": [],
   "source": [
    "predictor = ols(formula=f, data=train_df).fit()"
   ]
  },
  {
   "cell_type": "code",
   "execution_count": 44,
   "metadata": {},
   "outputs": [
    {
     "data": {
      "text/html": [
       "<table class=\"simpletable\">\n",
       "<caption>OLS Regression Results</caption>\n",
       "<tr>\n",
       "  <th>Dep. Variable:</th>          <td>price</td>      <th>  R-squared (uncentered):</th>       <td>   0.895</td>  \n",
       "</tr>\n",
       "<tr>\n",
       "  <th>Model:</th>                   <td>OLS</td>       <th>  Adj. R-squared (uncentered):</th>  <td>   0.895</td>  \n",
       "</tr>\n",
       "<tr>\n",
       "  <th>Method:</th>             <td>Least Squares</td>  <th>  F-statistic:       </th>           <td>2.631e+04</td> \n",
       "</tr>\n",
       "<tr>\n",
       "  <th>Date:</th>             <td>Fri, 09 Oct 2020</td> <th>  Prob (F-statistic):</th>            <td>  0.00</td>   \n",
       "</tr>\n",
       "<tr>\n",
       "  <th>Time:</th>                 <td>18:08:48</td>     <th>  Log-Likelihood:    </th>          <td>-2.0727e+05</td>\n",
       "</tr>\n",
       "<tr>\n",
       "  <th>No. Observations:</th>      <td> 15398</td>      <th>  AIC:               </th>           <td>4.145e+05</td> \n",
       "</tr>\n",
       "<tr>\n",
       "  <th>Df Residuals:</th>          <td> 15393</td>      <th>  BIC:               </th>           <td>4.146e+05</td> \n",
       "</tr>\n",
       "<tr>\n",
       "  <th>Df Model:</th>              <td>     5</td>      <th>                     </th>               <td> </td>     \n",
       "</tr>\n",
       "<tr>\n",
       "  <th>Covariance Type:</th>      <td>nonrobust</td>    <th>                     </th>               <td> </td>     \n",
       "</tr>\n",
       "</table>\n",
       "<table class=\"simpletable\">\n",
       "<tr>\n",
       "        <td></td>          <th>coef</th>     <th>std err</th>      <th>t</th>      <th>P>|t|</th>  <th>[0.025</th>    <th>0.975]</th>  \n",
       "</tr>\n",
       "<tr>\n",
       "  <th>sqft_lot</th>     <td> -172.5280</td> <td>  530.099</td> <td>   -0.325</td> <td> 0.745</td> <td>-1211.585</td> <td>  866.529</td>\n",
       "</tr>\n",
       "<tr>\n",
       "  <th>waterfront</th>   <td> 2.321e+05</td> <td> 2.59e+04</td> <td>    8.951</td> <td> 0.000</td> <td> 1.81e+05</td> <td> 2.83e+05</td>\n",
       "</tr>\n",
       "<tr>\n",
       "  <th>has_basement</th> <td> 3.165e+04</td> <td> 2863.118</td> <td>   11.054</td> <td> 0.000</td> <td>  2.6e+04</td> <td> 3.73e+04</td>\n",
       "</tr>\n",
       "<tr>\n",
       "  <th>sqft_living</th>  <td> 4.348e+05</td> <td> 2342.934</td> <td>  185.598</td> <td> 0.000</td> <td>  4.3e+05</td> <td> 4.39e+05</td>\n",
       "</tr>\n",
       "<tr>\n",
       "  <th>zip_density</th>  <td> 3.907e+04</td> <td> 1639.988</td> <td>   23.822</td> <td> 0.000</td> <td> 3.59e+04</td> <td> 4.23e+04</td>\n",
       "</tr>\n",
       "</table>\n",
       "<table class=\"simpletable\">\n",
       "<tr>\n",
       "  <th>Omnibus:</th>       <td>461.923</td> <th>  Durbin-Watson:     </th> <td>   1.993</td> \n",
       "</tr>\n",
       "<tr>\n",
       "  <th>Prob(Omnibus):</th> <td> 0.000</td>  <th>  Jarque-Bera (JB):  </th> <td> 543.210</td> \n",
       "</tr>\n",
       "<tr>\n",
       "  <th>Skew:</th>          <td> 0.385</td>  <th>  Prob(JB):          </th> <td>1.11e-118</td>\n",
       "</tr>\n",
       "<tr>\n",
       "  <th>Kurtosis:</th>      <td> 3.503</td>  <th>  Cond. No.          </th> <td>    54.3</td> \n",
       "</tr>\n",
       "</table><br/><br/>Warnings:<br/>[1] Standard Errors assume that the covariance matrix of the errors is correctly specified."
      ],
      "text/plain": [
       "<class 'statsmodels.iolib.summary.Summary'>\n",
       "\"\"\"\n",
       "                                 OLS Regression Results                                \n",
       "=======================================================================================\n",
       "Dep. Variable:                  price   R-squared (uncentered):                   0.895\n",
       "Model:                            OLS   Adj. R-squared (uncentered):              0.895\n",
       "Method:                 Least Squares   F-statistic:                          2.631e+04\n",
       "Date:                Fri, 09 Oct 2020   Prob (F-statistic):                        0.00\n",
       "Time:                        18:08:48   Log-Likelihood:                     -2.0727e+05\n",
       "No. Observations:               15398   AIC:                                  4.145e+05\n",
       "Df Residuals:                   15393   BIC:                                  4.146e+05\n",
       "Df Model:                           5                                                  \n",
       "Covariance Type:            nonrobust                                                  \n",
       "================================================================================\n",
       "                   coef    std err          t      P>|t|      [0.025      0.975]\n",
       "--------------------------------------------------------------------------------\n",
       "sqft_lot      -172.5280    530.099     -0.325      0.745   -1211.585     866.529\n",
       "waterfront    2.321e+05   2.59e+04      8.951      0.000    1.81e+05    2.83e+05\n",
       "has_basement  3.165e+04   2863.118     11.054      0.000     2.6e+04    3.73e+04\n",
       "sqft_living   4.348e+05   2342.934    185.598      0.000     4.3e+05    4.39e+05\n",
       "zip_density   3.907e+04   1639.988     23.822      0.000    3.59e+04    4.23e+04\n",
       "==============================================================================\n",
       "Omnibus:                      461.923   Durbin-Watson:                   1.993\n",
       "Prob(Omnibus):                  0.000   Jarque-Bera (JB):              543.210\n",
       "Skew:                           0.385   Prob(JB):                    1.11e-118\n",
       "Kurtosis:                       3.503   Cond. No.                         54.3\n",
       "==============================================================================\n",
       "\n",
       "Warnings:\n",
       "[1] Standard Errors assume that the covariance matrix of the errors is correctly specified.\n",
       "\"\"\""
      ]
     },
     "execution_count": 44,
     "metadata": {},
     "output_type": "execute_result"
    }
   ],
   "source": [
    "predictor.summary()"
   ]
  },
  {
   "cell_type": "code",
   "execution_count": 45,
   "metadata": {},
   "outputs": [
    {
     "data": {
      "image/png": "[encoded data removed]",
      "text/plain": [
       "<Figure size 432x288 with 1 Axes>"
      ]
     },
     "metadata": {
      "needs_background": "light"
     },
     "output_type": "display_data"
    }
   ],
   "source": [
    "fig = sm.graphics.qqplot(predictor.resid, dist=stats.norm, line='45', fit=True)"
   ]
  },
  {
   "cell_type": "code",
   "execution_count": 46,
   "metadata": {},
   "outputs": [],
   "source": [
    "x_cols = list(X_train.columns)"
   ]
  },
  {
   "cell_type": "code",
   "execution_count": 47,
   "metadata": {},
   "outputs": [
    {
     "data": {
      "image/png": "[encoded data removed]",
      "text/plain": [
       "<Figure size 432x288 with 1 Axes>"
      ]
     },
     "metadata": {
      "needs_background": "light"
     },
     "output_type": "display_data"
    }
   ],
   "source": [
    "plt.scatter(predictor.predict(X_train[x_cols]), predictor.resid)\n",
    "plt.plot(predictor.predict(X_train[x_cols]), [0 for i in range(len(X_train))]);"
   ]
  },
  {
   "cell_type": "markdown",
   "metadata": {},
   "source": [
    "# Putting results in a table"
   ]
  },
  {
   "cell_type": "code",
   "execution_count": 48,
   "metadata": {},
   "outputs": [],
   "source": [
    "results = pd.DataFrame(list(predictor.predict(X_test)))\n",
    "results.columns = ['Predicted Price']\n",
    "results['Actual Price'] = list(y_test)"
   ]
  },
  {
   "cell_type": "code",
   "execution_count": 49,
   "metadata": {},
   "outputs": [],
   "source": [
    "te = []\n",
    "pe = []\n",
    "for i in range(len(results)):\n",
    "    if results['Actual Price'][i] > results['Predicted Price'][i]:\n",
    "        te.append(round(results['Actual Price'][i] - results['Predicted Price'][i], 2))\n",
    "        pe.append(round(((results['Actual Price'][i] / results['Predicted Price'][i])-1)*100, 2))\n",
    "    else:\n",
    "        te.append(round(results['Predicted Price'][i] - results['Actual Price'][i], 2))\n",
    "        pe.append(round(((results['Predicted Price'][i] / results['Actual Price'][i])-1)*100, 2))"
   ]
  },
  {
   "cell_type": "code",
   "execution_count": 50,
   "metadata": {},
   "outputs": [
    {
     "data": {
      "text/html": [
       "<div>\n",
       "<style scoped>\n",
       "    .dataframe tbody tr th:only-of-type {\n",
       "        vertical-align: middle;\n",
       "    }\n",
       "\n",
       "    .dataframe tbody tr th {\n",
       "        vertical-align: top;\n",
       "    }\n",
       "\n",
       "    .dataframe thead th {\n",
       "        text-align: right;\n",
       "    }\n",
       "</style>\n",
       "<table border=\"1\" class=\"dataframe\">\n",
       "  <thead>\n",
       "    <tr style=\"text-align: right;\">\n",
       "      <th></th>\n",
       "      <th>Predicted Price</th>\n",
       "      <th>Actual Price</th>\n",
       "      <th>$ Error</th>\n",
       "      <th>% Error</th>\n",
       "    </tr>\n",
       "  </thead>\n",
       "  <tbody>\n",
       "    <tr>\n",
       "      <th>0</th>\n",
       "      <td>649943.171355</td>\n",
       "      <td>607500.0</td>\n",
       "      <td>42443.17</td>\n",
       "      <td>6.99</td>\n",
       "    </tr>\n",
       "    <tr>\n",
       "      <th>1</th>\n",
       "      <td>504204.515042</td>\n",
       "      <td>335000.0</td>\n",
       "      <td>169204.52</td>\n",
       "      <td>50.51</td>\n",
       "    </tr>\n",
       "    <tr>\n",
       "      <th>2</th>\n",
       "      <td>325566.719332</td>\n",
       "      <td>167000.0</td>\n",
       "      <td>158566.72</td>\n",
       "      <td>94.95</td>\n",
       "    </tr>\n",
       "    <tr>\n",
       "      <th>3</th>\n",
       "      <td>279119.517706</td>\n",
       "      <td>265000.0</td>\n",
       "      <td>14119.52</td>\n",
       "      <td>5.33</td>\n",
       "    </tr>\n",
       "    <tr>\n",
       "      <th>4</th>\n",
       "      <td>194685.833106</td>\n",
       "      <td>550000.0</td>\n",
       "      <td>355314.17</td>\n",
       "      <td>182.51</td>\n",
       "    </tr>\n",
       "    <tr>\n",
       "      <th>...</th>\n",
       "      <td>...</td>\n",
       "      <td>...</td>\n",
       "      <td>...</td>\n",
       "      <td>...</td>\n",
       "    </tr>\n",
       "    <tr>\n",
       "      <th>5128</th>\n",
       "      <td>972188.621027</td>\n",
       "      <td>795127.0</td>\n",
       "      <td>177061.62</td>\n",
       "      <td>22.27</td>\n",
       "    </tr>\n",
       "    <tr>\n",
       "      <th>5129</th>\n",
       "      <td>297524.983961</td>\n",
       "      <td>274800.0</td>\n",
       "      <td>22724.98</td>\n",
       "      <td>8.27</td>\n",
       "    </tr>\n",
       "    <tr>\n",
       "      <th>5130</th>\n",
       "      <td>239829.036078</td>\n",
       "      <td>218000.0</td>\n",
       "      <td>21829.04</td>\n",
       "      <td>10.01</td>\n",
       "    </tr>\n",
       "    <tr>\n",
       "      <th>5131</th>\n",
       "      <td>432421.089244</td>\n",
       "      <td>335000.0</td>\n",
       "      <td>97421.09</td>\n",
       "      <td>29.08</td>\n",
       "    </tr>\n",
       "    <tr>\n",
       "      <th>5132</th>\n",
       "      <td>733387.210019</td>\n",
       "      <td>722000.0</td>\n",
       "      <td>11387.21</td>\n",
       "      <td>1.58</td>\n",
       "    </tr>\n",
       "  </tbody>\n",
       "</table>\n",
       "<p>5133 rows × 4 columns</p>\n",
       "</div>"
      ],
      "text/plain": [
       "      Predicted Price  Actual Price    $ Error  % Error\n",
       "0       649943.171355      607500.0   42443.17     6.99\n",
       "1       504204.515042      335000.0  169204.52    50.51\n",
       "2       325566.719332      167000.0  158566.72    94.95\n",
       "3       279119.517706      265000.0   14119.52     5.33\n",
       "4       194685.833106      550000.0  355314.17   182.51\n",
       "...               ...           ...        ...      ...\n",
       "5128    972188.621027      795127.0  177061.62    22.27\n",
       "5129    297524.983961      274800.0   22724.98     8.27\n",
       "5130    239829.036078      218000.0   21829.04    10.01\n",
       "5131    432421.089244      335000.0   97421.09    29.08\n",
       "5132    733387.210019      722000.0   11387.21     1.58\n",
       "\n",
       "[5133 rows x 4 columns]"
      ]
     },
     "execution_count": 50,
     "metadata": {},
     "output_type": "execute_result"
    }
   ],
   "source": [
    "results['$ Error'] = te\n",
    "results['% Error'] = pe\n",
    "results"
   ]
  },
  {
   "cell_type": "code",
   "execution_count": null,
   "metadata": {},
   "outputs": [],
   "source": []
  }
 ],
 "metadata": {
  "kernelspec": {
   "display_name": "Python 3",
   "language": "python",
   "name": "python3"
  },
  "language_info": {
   "codemirror_mode": {
    "name": "ipython",
    "version": 3
   },
   "file_extension": ".py",
   "mimetype": "text/x-python",
   "name": "python",
   "nbconvert_exporter": "python",
   "pygments_lexer": "ipython3",
   "version": "3.6.9"
  }
 },
 "nbformat": 4,
 "nbformat_minor": 4
}
