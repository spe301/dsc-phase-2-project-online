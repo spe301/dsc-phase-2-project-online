{
 "cells": [
  {
   "cell_type": "code",
   "execution_count": 8,
   "metadata": {},
   "outputs": [],
   "source": [
    "import pandas as pd\n",
    "import numpy as np\n",
    "import statsmodels.api as sm\n",
    "from statsmodels.formula.api import ols\n",
    "from statsmodels.stats.outliers_influence import variance_inflation_factor\n",
    "from statsmodels.tools.tools import add_constant\n",
    "import scipy.stats as stats\n",
    "from matplotlib import pyplot as plt\n",
    "from sklearn.model_selection import train_test_split\n",
    "from sklearn.linear_model import LinearRegression\n",
    "dataframe = pd.read_csv(r'C:\\Users\\aacjp\\KC_Final.csv')\n",
    "add_in = pd.read_csv(r'C:\\Users\\aacjp\\frm_seattle.csv')"
   ]
  },
  {
   "cell_type": "code",
   "execution_count": 9,
   "metadata": {},
   "outputs": [
    {
     "data": {
      "text/html": [
       "<div>\n",
       "<style scoped>\n",
       "    .dataframe tbody tr th:only-of-type {\n",
       "        vertical-align: middle;\n",
       "    }\n",
       "\n",
       "    .dataframe tbody tr th {\n",
       "        vertical-align: top;\n",
       "    }\n",
       "\n",
       "    .dataframe thead th {\n",
       "        text-align: right;\n",
       "    }\n",
       "</style>\n",
       "<table border=\"1\" class=\"dataframe\">\n",
       "  <thead>\n",
       "    <tr style=\"text-align: right;\">\n",
       "      <th></th>\n",
       "      <th>price</th>\n",
       "      <th>sqft_lot</th>\n",
       "      <th>waterfront</th>\n",
       "      <th>lat</th>\n",
       "      <th>has_basement</th>\n",
       "      <th>sqft_living</th>\n",
       "      <th>zip_density</th>\n",
       "      <th>distance</th>\n",
       "    </tr>\n",
       "  </thead>\n",
       "  <tbody>\n",
       "    <tr>\n",
       "      <th>0</th>\n",
       "      <td>221900.0</td>\n",
       "      <td>0.374187</td>\n",
       "      <td>0.0</td>\n",
       "      <td>0.5112</td>\n",
       "      <td>0</td>\n",
       "      <td>0.567220</td>\n",
       "      <td>0.661690</td>\n",
       "      <td>7.2</td>\n",
       "    </tr>\n",
       "    <tr>\n",
       "      <th>1</th>\n",
       "      <td>538000.0</td>\n",
       "      <td>0.479621</td>\n",
       "      <td>0.0</td>\n",
       "      <td>0.7210</td>\n",
       "      <td>1</td>\n",
       "      <td>1.235386</td>\n",
       "      <td>0.587569</td>\n",
       "      <td>8.2</td>\n",
       "    </tr>\n",
       "    <tr>\n",
       "      <th>2</th>\n",
       "      <td>180000.0</td>\n",
       "      <td>0.662278</td>\n",
       "      <td>0.0</td>\n",
       "      <td>0.7379</td>\n",
       "      <td>0</td>\n",
       "      <td>0.370135</td>\n",
       "      <td>0.955798</td>\n",
       "      <td>10.4</td>\n",
       "    </tr>\n",
       "    <tr>\n",
       "      <th>3</th>\n",
       "      <td>604000.0</td>\n",
       "      <td>0.331139</td>\n",
       "      <td>0.0</td>\n",
       "      <td>0.5208</td>\n",
       "      <td>1</td>\n",
       "      <td>0.942162</td>\n",
       "      <td>0.011237</td>\n",
       "      <td>6.4</td>\n",
       "    </tr>\n",
       "    <tr>\n",
       "      <th>4</th>\n",
       "      <td>510000.0</td>\n",
       "      <td>0.535120</td>\n",
       "      <td>0.0</td>\n",
       "      <td>0.6168</td>\n",
       "      <td>0</td>\n",
       "      <td>0.807567</td>\n",
       "      <td>2.937626</td>\n",
       "      <td>13.3</td>\n",
       "    </tr>\n",
       "    <tr>\n",
       "      <th>...</th>\n",
       "      <td>...</td>\n",
       "      <td>...</td>\n",
       "      <td>...</td>\n",
       "      <td>...</td>\n",
       "      <td>...</td>\n",
       "      <td>...</td>\n",
       "      <td>...</td>\n",
       "      <td>...</td>\n",
       "    </tr>\n",
       "    <tr>\n",
       "      <th>20526</th>\n",
       "      <td>360000.0</td>\n",
       "      <td>0.074904</td>\n",
       "      <td>0.0</td>\n",
       "      <td>0.6993</td>\n",
       "      <td>0</td>\n",
       "      <td>0.735463</td>\n",
       "      <td>0.472173</td>\n",
       "      <td>6.7</td>\n",
       "    </tr>\n",
       "    <tr>\n",
       "      <th>20527</th>\n",
       "      <td>400000.0</td>\n",
       "      <td>0.384982</td>\n",
       "      <td>0.0</td>\n",
       "      <td>0.5107</td>\n",
       "      <td>0</td>\n",
       "      <td>1.110405</td>\n",
       "      <td>0.935701</td>\n",
       "      <td>6.5</td>\n",
       "    </tr>\n",
       "    <tr>\n",
       "      <th>20528</th>\n",
       "      <td>402101.0</td>\n",
       "      <td>0.089407</td>\n",
       "      <td>0.0</td>\n",
       "      <td>0.5944</td>\n",
       "      <td>0</td>\n",
       "      <td>0.490309</td>\n",
       "      <td>0.798696</td>\n",
       "      <td>1.6</td>\n",
       "    </tr>\n",
       "    <tr>\n",
       "      <th>20529</th>\n",
       "      <td>400000.0</td>\n",
       "      <td>0.158152</td>\n",
       "      <td>0.0</td>\n",
       "      <td>0.5345</td>\n",
       "      <td>0</td>\n",
       "      <td>0.769112</td>\n",
       "      <td>2.140444</td>\n",
       "      <td>13.1</td>\n",
       "    </tr>\n",
       "    <tr>\n",
       "      <th>20530</th>\n",
       "      <td>325000.0</td>\n",
       "      <td>0.071261</td>\n",
       "      <td>0.0</td>\n",
       "      <td>0.5941</td>\n",
       "      <td>0</td>\n",
       "      <td>0.490309</td>\n",
       "      <td>0.798696</td>\n",
       "      <td>1.6</td>\n",
       "    </tr>\n",
       "  </tbody>\n",
       "</table>\n",
       "<p>20531 rows × 8 columns</p>\n",
       "</div>"
      ],
      "text/plain": [
       "          price  sqft_lot  waterfront     lat  has_basement  sqft_living  \\\n",
       "0      221900.0  0.374187         0.0  0.5112             0     0.567220   \n",
       "1      538000.0  0.479621         0.0  0.7210             1     1.235386   \n",
       "2      180000.0  0.662278         0.0  0.7379             0     0.370135   \n",
       "3      604000.0  0.331139         0.0  0.5208             1     0.942162   \n",
       "4      510000.0  0.535120         0.0  0.6168             0     0.807567   \n",
       "...         ...       ...         ...     ...           ...          ...   \n",
       "20526  360000.0  0.074904         0.0  0.6993             0     0.735463   \n",
       "20527  400000.0  0.384982         0.0  0.5107             0     1.110405   \n",
       "20528  402101.0  0.089407         0.0  0.5944             0     0.490309   \n",
       "20529  400000.0  0.158152         0.0  0.5345             0     0.769112   \n",
       "20530  325000.0  0.071261         0.0  0.5941             0     0.490309   \n",
       "\n",
       "       zip_density  distance  \n",
       "0         0.661690       7.2  \n",
       "1         0.587569       8.2  \n",
       "2         0.955798      10.4  \n",
       "3         0.011237       6.4  \n",
       "4         2.937626      13.3  \n",
       "...            ...       ...  \n",
       "20526     0.472173       6.7  \n",
       "20527     0.935701       6.5  \n",
       "20528     0.798696       1.6  \n",
       "20529     2.140444      13.1  \n",
       "20530     0.798696       1.6  \n",
       "\n",
       "[20531 rows x 8 columns]"
      ]
     },
     "execution_count": 9,
     "metadata": {},
     "output_type": "execute_result"
    }
   ],
   "source": [
    "df = pd.concat([dataframe, add_in], axis='columns')\n",
    "df"
   ]
  },
  {
   "cell_type": "markdown",
   "metadata": {},
   "source": [
    "# Checking for Multicollinearity\n",
    "we still have a little bit with area and lattitude, it is best to keep all values under 5, but it is worth the increased accuracy. I also seperated out y from X"
   ]
  },
  {
   "cell_type": "code",
   "execution_count": 10,
   "metadata": {},
   "outputs": [
    {
     "data": {
      "text/plain": [
       "sqft_lot        1.213169\n",
       "waterfront      1.003706\n",
       "has_basement    1.703567\n",
       "sqft_living     5.252351\n",
       "zip_density     2.430823\n",
       "distance        3.894907\n",
       "dtype: float64"
      ]
     },
     "execution_count": 10,
     "metadata": {},
     "output_type": "execute_result"
    }
   ],
   "source": [
    "X = df.drop(['price', 'lat'], axis='columns')\n",
    "y = df['price']\n",
    "\n",
    "pd.Series([variance_inflation_factor(X.values, i) \n",
    "               for i in range(X.shape[1])], \n",
    "              index=X.columns)"
   ]
  },
  {
   "cell_type": "markdown",
   "metadata": {},
   "source": [
    "# Building a Linear Regression Model with Statsmodels"
   ]
  },
  {
   "cell_type": "markdown",
   "metadata": {},
   "source": [
    "I wrote the formula and split the data before building the model"
   ]
  },
  {
   "cell_type": "code",
   "execution_count": 11,
   "metadata": {},
   "outputs": [],
   "source": [
    "f = 'price~sqft_lot+waterfront+has_basement+sqft_living+zip_density-1'"
   ]
  },
  {
   "cell_type": "code",
   "execution_count": 12,
   "metadata": {},
   "outputs": [
    {
     "data": {
      "text/plain": [
       "KFold(n_splits=5, random_state=None, shuffle=False)"
      ]
     },
     "execution_count": 12,
     "metadata": {},
     "output_type": "execute_result"
    }
   ],
   "source": [
    "from sklearn.model_selection import KFold\n",
    "kf = KFold(n_splits=5)\n",
    "kf"
   ]
  },
  {
   "cell_type": "code",
   "execution_count": 13,
   "metadata": {},
   "outputs": [],
   "source": [
    "indicies = []\n",
    "for train_index, test_index in kf.split(df):\n",
    "    indicies.append((train_index, test_index))"
   ]
  },
  {
   "cell_type": "code",
   "execution_count": 14,
   "metadata": {},
   "outputs": [],
   "source": [
    "def get_score(data, formula):\n",
    "    predictor = ols(formula=formula, data=data).fit()\n",
    "    return predictor.rsquared"
   ]
  },
  {
   "cell_type": "code",
   "execution_count": 15,
   "metadata": {},
   "outputs": [],
   "source": [
    "scores = []\n",
    " \n",
    "for i in range(len(indicies)):\n",
    "    X_train = X.loc[indicies[i][0]]\n",
    "    X_test = X.loc[indicies[i][1]]\n",
    "    data = df.loc[indicies[i][0]]\n",
    "    scores.append(get_score(data, f))"
   ]
  },
  {
   "cell_type": "code",
   "execution_count": 16,
   "metadata": {},
   "outputs": [
    {
     "name": "stdout",
     "output_type": "stream",
     "text": [
      "1\n"
     ]
    }
   ],
   "source": [
    "for i in range(len(scores)):\n",
    "    if scores[i] == max(scores):\n",
    "        print(i)"
   ]
  },
  {
   "cell_type": "code",
   "execution_count": 17,
   "metadata": {},
   "outputs": [
    {
     "data": {
      "text/html": [
       "<table class=\"simpletable\">\n",
       "<caption>OLS Regression Results</caption>\n",
       "<tr>\n",
       "  <th>Dep. Variable:</th>          <td>price</td>      <th>  R-squared (uncentered):</th>       <td>   0.898</td>  \n",
       "</tr>\n",
       "<tr>\n",
       "  <th>Model:</th>                   <td>OLS</td>       <th>  Adj. R-squared (uncentered):</th>  <td>   0.898</td>  \n",
       "</tr>\n",
       "<tr>\n",
       "  <th>Method:</th>             <td>Least Squares</td>  <th>  F-statistic:       </th>           <td>2.895e+04</td> \n",
       "</tr>\n",
       "<tr>\n",
       "  <th>Date:</th>             <td>Sun, 18 Oct 2020</td> <th>  Prob (F-statistic):</th>            <td>  0.00</td>   \n",
       "</tr>\n",
       "<tr>\n",
       "  <th>Time:</th>                 <td>07:30:46</td>     <th>  Log-Likelihood:    </th>          <td>-2.2091e+05</td>\n",
       "</tr>\n",
       "<tr>\n",
       "  <th>No. Observations:</th>      <td> 16425</td>      <th>  AIC:               </th>           <td>4.418e+05</td> \n",
       "</tr>\n",
       "<tr>\n",
       "  <th>Df Residuals:</th>          <td> 16420</td>      <th>  BIC:               </th>           <td>4.419e+05</td> \n",
       "</tr>\n",
       "<tr>\n",
       "  <th>Df Model:</th>              <td>     5</td>      <th>                     </th>               <td> </td>     \n",
       "</tr>\n",
       "<tr>\n",
       "  <th>Covariance Type:</th>      <td>nonrobust</td>    <th>                     </th>               <td> </td>     \n",
       "</tr>\n",
       "</table>\n",
       "<table class=\"simpletable\">\n",
       "<tr>\n",
       "        <td></td>          <th>coef</th>     <th>std err</th>      <th>t</th>      <th>P>|t|</th>  <th>[0.025</th>    <th>0.975]</th>  \n",
       "</tr>\n",
       "<tr>\n",
       "  <th>sqft_lot</th>     <td> -535.7399</td> <td>  514.004</td> <td>   -1.042</td> <td> 0.297</td> <td>-1543.243</td> <td>  471.763</td>\n",
       "</tr>\n",
       "<tr>\n",
       "  <th>waterfront</th>   <td> 2.423e+05</td> <td> 2.45e+04</td> <td>    9.878</td> <td> 0.000</td> <td> 1.94e+05</td> <td>  2.9e+05</td>\n",
       "</tr>\n",
       "<tr>\n",
       "  <th>has_basement</th> <td> 3.986e+04</td> <td> 2734.198</td> <td>   14.577</td> <td> 0.000</td> <td> 3.45e+04</td> <td> 4.52e+04</td>\n",
       "</tr>\n",
       "<tr>\n",
       "  <th>sqft_living</th>  <td> 4.325e+05</td> <td> 2229.001</td> <td>  194.018</td> <td> 0.000</td> <td> 4.28e+05</td> <td> 4.37e+05</td>\n",
       "</tr>\n",
       "<tr>\n",
       "  <th>zip_density</th>  <td> 3.895e+04</td> <td> 1570.527</td> <td>   24.801</td> <td> 0.000</td> <td> 3.59e+04</td> <td>  4.2e+04</td>\n",
       "</tr>\n",
       "</table>\n",
       "<table class=\"simpletable\">\n",
       "<tr>\n",
       "  <th>Omnibus:</th>       <td>437.347</td> <th>  Durbin-Watson:     </th> <td>   1.965</td> \n",
       "</tr>\n",
       "<tr>\n",
       "  <th>Prob(Omnibus):</th> <td> 0.000</td>  <th>  Jarque-Bera (JB):  </th> <td> 507.990</td> \n",
       "</tr>\n",
       "<tr>\n",
       "  <th>Skew:</th>          <td> 0.361</td>  <th>  Prob(JB):          </th> <td>4.91e-111</td>\n",
       "</tr>\n",
       "<tr>\n",
       "  <th>Kurtosis:</th>      <td> 3.469</td>  <th>  Cond. No.          </th> <td>    52.9</td> \n",
       "</tr>\n",
       "</table><br/><br/>Warnings:<br/>[1] Standard Errors assume that the covariance matrix of the errors is correctly specified."
      ],
      "text/plain": [
       "<class 'statsmodels.iolib.summary.Summary'>\n",
       "\"\"\"\n",
       "                                 OLS Regression Results                                \n",
       "=======================================================================================\n",
       "Dep. Variable:                  price   R-squared (uncentered):                   0.898\n",
       "Model:                            OLS   Adj. R-squared (uncentered):              0.898\n",
       "Method:                 Least Squares   F-statistic:                          2.895e+04\n",
       "Date:                Sun, 18 Oct 2020   Prob (F-statistic):                        0.00\n",
       "Time:                        07:30:46   Log-Likelihood:                     -2.2091e+05\n",
       "No. Observations:               16425   AIC:                                  4.418e+05\n",
       "Df Residuals:                   16420   BIC:                                  4.419e+05\n",
       "Df Model:                           5                                                  \n",
       "Covariance Type:            nonrobust                                                  \n",
       "================================================================================\n",
       "                   coef    std err          t      P>|t|      [0.025      0.975]\n",
       "--------------------------------------------------------------------------------\n",
       "sqft_lot      -535.7399    514.004     -1.042      0.297   -1543.243     471.763\n",
       "waterfront    2.423e+05   2.45e+04      9.878      0.000    1.94e+05     2.9e+05\n",
       "has_basement  3.986e+04   2734.198     14.577      0.000    3.45e+04    4.52e+04\n",
       "sqft_living   4.325e+05   2229.001    194.018      0.000    4.28e+05    4.37e+05\n",
       "zip_density   3.895e+04   1570.527     24.801      0.000    3.59e+04     4.2e+04\n",
       "==============================================================================\n",
       "Omnibus:                      437.347   Durbin-Watson:                   1.965\n",
       "Prob(Omnibus):                  0.000   Jarque-Bera (JB):              507.990\n",
       "Skew:                           0.361   Prob(JB):                    4.91e-111\n",
       "Kurtosis:                       3.469   Cond. No.                         52.9\n",
       "==============================================================================\n",
       "\n",
       "Warnings:\n",
       "[1] Standard Errors assume that the covariance matrix of the errors is correctly specified.\n",
       "\"\"\""
      ]
     },
     "execution_count": 17,
     "metadata": {},
     "output_type": "execute_result"
    }
   ],
   "source": [
    "data = df.loc[indicies[1][0]]\n",
    "predictor = ols(formula=f, data=data).fit()\n",
    "predictor.summary()"
   ]
  },
  {
   "cell_type": "markdown",
   "metadata": {},
   "source": [
    "# Testing for normality\n",
    "perfect normality would result in the blue line being perfectly diagonal."
   ]
  },
  {
   "cell_type": "code",
   "execution_count": 19,
   "metadata": {},
   "outputs": [
    {
     "data": {
      "image/png": "[encoded data removed]",
      "text/plain": [
       "<Figure size 432x288 with 1 Axes>"
      ]
     },
     "metadata": {
      "needs_background": "light"
     },
     "output_type": "display_data"
    }
   ],
   "source": [
    "fig = sm.graphics.qqplot(predictor.resid, dist=stats.norm, line='45', fit=True)"
   ]
  },
  {
   "cell_type": "code",
   "execution_count": 20,
   "metadata": {},
   "outputs": [],
   "source": [
    "x_cols = list(X_train.columns)"
   ]
  },
  {
   "cell_type": "markdown",
   "metadata": {},
   "source": [
    "# Checking for Homoscedasticity"
   ]
  },
  {
   "cell_type": "code",
   "execution_count": 21,
   "metadata": {},
   "outputs": [
    {
     "data": {
      "image/png": "[encoded data removed]",
      "text/plain": [
       "<Figure size 432x288 with 1 Axes>"
      ]
     },
     "metadata": {
      "needs_background": "light"
     },
     "output_type": "display_data"
    }
   ],
   "source": [
    "plt.scatter(predictor.predict(X_train[x_cols]), predictor.resid)\n",
    "plt.plot(predictor.predict(X_train[x_cols]), [0 for i in range(len(X_train))]);"
   ]
  },
  {
   "cell_type": "code",
   "execution_count": 22,
   "metadata": {},
   "outputs": [],
   "source": [
    "results = pd.DataFrame(list(predictor.predict(X.loc[test_index])))\n",
    "results.columns = ['Predicted Price']\n",
    "results['Actual Price'] = list(y[test_index])"
   ]
  },
  {
   "cell_type": "code",
   "execution_count": 23,
   "metadata": {},
   "outputs": [],
   "source": [
    "te = []\n",
    "pe = []\n",
    "for i in range(len(results)):\n",
    "    if results['Actual Price'][i] > results['Predicted Price'][i]:\n",
    "        te.append(round(results['Actual Price'][i] - results['Predicted Price'][i], 2))\n",
    "        pe.append(round(((results['Actual Price'][i] / results['Predicted Price'][i])-1)*100, 2))\n",
    "    else:\n",
    "        te.append(round(results['Predicted Price'][i] - results['Actual Price'][i], 2))\n",
    "        pe.append(round(((results['Predicted Price'][i] / results['Actual Price'][i])-1)*100, 2))"
   ]
  },
  {
   "cell_type": "markdown",
   "metadata": {},
   "source": [
    "# Putting test results into a table"
   ]
  },
  {
   "cell_type": "code",
   "execution_count": 25,
   "metadata": {},
   "outputs": [
    {
     "data": {
      "text/html": [
       "<div>\n",
       "<style scoped>\n",
       "    .dataframe tbody tr th:only-of-type {\n",
       "        vertical-align: middle;\n",
       "    }\n",
       "\n",
       "    .dataframe tbody tr th {\n",
       "        vertical-align: top;\n",
       "    }\n",
       "\n",
       "    .dataframe thead th {\n",
       "        text-align: right;\n",
       "    }\n",
       "</style>\n",
       "<table border=\"1\" class=\"dataframe\">\n",
       "  <thead>\n",
       "    <tr style=\"text-align: right;\">\n",
       "      <th></th>\n",
       "      <th>Predicted Price</th>\n",
       "      <th>Actual Price</th>\n",
       "      <th>$ Error</th>\n",
       "      <th>% Error</th>\n",
       "    </tr>\n",
       "  </thead>\n",
       "  <tbody>\n",
       "    <tr>\n",
       "      <th>0</th>\n",
       "      <td>488621.415305</td>\n",
       "      <td>506500.0</td>\n",
       "      <td>17878.58</td>\n",
       "      <td>3.66</td>\n",
       "    </tr>\n",
       "    <tr>\n",
       "      <th>1</th>\n",
       "      <td>418567.422489</td>\n",
       "      <td>500000.0</td>\n",
       "      <td>81432.58</td>\n",
       "      <td>19.46</td>\n",
       "    </tr>\n",
       "    <tr>\n",
       "      <th>2</th>\n",
       "      <td>538103.385324</td>\n",
       "      <td>280000.0</td>\n",
       "      <td>258103.39</td>\n",
       "      <td>92.18</td>\n",
       "    </tr>\n",
       "    <tr>\n",
       "      <th>3</th>\n",
       "      <td>392754.318194</td>\n",
       "      <td>308000.0</td>\n",
       "      <td>84754.32</td>\n",
       "      <td>27.52</td>\n",
       "    </tr>\n",
       "    <tr>\n",
       "      <th>4</th>\n",
       "      <td>541130.619321</td>\n",
       "      <td>613500.0</td>\n",
       "      <td>72369.38</td>\n",
       "      <td>13.37</td>\n",
       "    </tr>\n",
       "    <tr>\n",
       "      <th>...</th>\n",
       "      <td>...</td>\n",
       "      <td>...</td>\n",
       "      <td>...</td>\n",
       "      <td>...</td>\n",
       "    </tr>\n",
       "    <tr>\n",
       "      <th>4101</th>\n",
       "      <td>336414.638462</td>\n",
       "      <td>360000.0</td>\n",
       "      <td>23585.36</td>\n",
       "      <td>7.01</td>\n",
       "    </tr>\n",
       "    <tr>\n",
       "      <th>4102</th>\n",
       "      <td>516453.343105</td>\n",
       "      <td>400000.0</td>\n",
       "      <td>116453.34</td>\n",
       "      <td>29.11</td>\n",
       "    </tr>\n",
       "    <tr>\n",
       "      <th>4103</th>\n",
       "      <td>243104.353753</td>\n",
       "      <td>402101.0</td>\n",
       "      <td>158996.65</td>\n",
       "      <td>65.40</td>\n",
       "    </tr>\n",
       "    <tr>\n",
       "      <th>4104</th>\n",
       "      <td>415903.271681</td>\n",
       "      <td>400000.0</td>\n",
       "      <td>15903.27</td>\n",
       "      <td>3.98</td>\n",
       "    </tr>\n",
       "    <tr>\n",
       "      <th>4105</th>\n",
       "      <td>243114.075507</td>\n",
       "      <td>325000.0</td>\n",
       "      <td>81885.92</td>\n",
       "      <td>33.68</td>\n",
       "    </tr>\n",
       "  </tbody>\n",
       "</table>\n",
       "<p>4106 rows × 4 columns</p>\n",
       "</div>"
      ],
      "text/plain": [
       "      Predicted Price  Actual Price    $ Error  % Error\n",
       "0       488621.415305      506500.0   17878.58     3.66\n",
       "1       418567.422489      500000.0   81432.58    19.46\n",
       "2       538103.385324      280000.0  258103.39    92.18\n",
       "3       392754.318194      308000.0   84754.32    27.52\n",
       "4       541130.619321      613500.0   72369.38    13.37\n",
       "...               ...           ...        ...      ...\n",
       "4101    336414.638462      360000.0   23585.36     7.01\n",
       "4102    516453.343105      400000.0  116453.34    29.11\n",
       "4103    243104.353753      402101.0  158996.65    65.40\n",
       "4104    415903.271681      400000.0   15903.27     3.98\n",
       "4105    243114.075507      325000.0   81885.92    33.68\n",
       "\n",
       "[4106 rows x 4 columns]"
      ]
     },
     "execution_count": 25,
     "metadata": {},
     "output_type": "execute_result"
    }
   ],
   "source": [
    "results['$ Error'] = te\n",
    "results['% Error'] = pe\n",
    "results"
   ]
  },
  {
   "cell_type": "code",
   "execution_count": null,
   "metadata": {},
   "outputs": [],
   "source": []
  }
 ],
 "metadata": {
  "kernelspec": {
   "display_name": "Python 3",
   "language": "python",
   "name": "python3"
  },
  "language_info": {
   "codemirror_mode": {
    "name": "ipython",
    "version": 3
   },
   "file_extension": ".py",
   "mimetype": "text/x-python",
   "name": "python",
   "nbconvert_exporter": "python",
   "pygments_lexer": "ipython3",
   "version": "3.6.9"
  }
 },
 "nbformat": 4,
 "nbformat_minor": 4
}
